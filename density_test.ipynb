{
 "cells": [
  {
   "cell_type": "code",
   "execution_count": 1,
   "metadata": {},
   "outputs": [],
   "source": [
    "import numpy as np"
   ]
  },
  {
   "cell_type": "code",
   "execution_count": 2,
   "metadata": {},
   "outputs": [
    {
     "name": "stdout",
     "output_type": "stream",
     "text": [
      "X X†\n",
      "\n",
      "[[1 0]\n",
      " [0 1]]\n",
      "\n",
      "X† X\n",
      "\n",
      "[[1 0]\n",
      " [0 1]]\n"
     ]
    }
   ],
   "source": [
    "X = np.array([[0, 1], [1, 0]])\n",
    "\n",
    "print(\"X X†\\n\")\n",
    "print(X.dot(X.T.conj()))\n",
    "\n",
    "print(\"\\nX† X\\n\")\n",
    "print(X.T.conj().dot(X))"
   ]
  },
  {
   "cell_type": "code",
   "execution_count": 3,
   "metadata": {},
   "outputs": [
    {
     "name": "stdout",
     "output_type": "stream",
     "text": [
      "The norm of the state |0> before applying X = 1.000000\n",
      "\n",
      "The norm of the state after applying X = 1.000000\n"
     ]
    }
   ],
   "source": [
    "zero_ket = np.array([[1], [0]])\n",
    "\n",
    "print(\"The norm of the state |0> before applying X = %f\\n\" % np.linalg.norm(zero_ket))\n",
    "print(\"The norm of the state after applying X = %f\" % np.linalg.norm(X.dot(zero_ket)))"
   ]
  },
  {
   "cell_type": "code",
   "execution_count": 4,
   "metadata": {},
   "outputs": [
    {
     "name": "stdout",
     "output_type": "stream",
     "text": [
      "density matrix of |ø>\n",
      "\n",
      " [[0.5 0.  0.  0.5]\n",
      " [0.  0.  0.  0. ]\n",
      " [0.  0.  0.  0. ]\n",
      " [0.5 0.  0.  0.5]]\n"
     ]
    }
   ],
   "source": [
    "def mixed_state(densityMatrix, visibility):\n",
    "    maximally_mixed_state = np.eye(4) / 2**2\n",
    "    return (visibility * densityMatrix) + (1 - visibility) * maximally_mixed_state\n",
    "\n",
    "øKet = np.array([[1], [0], [0], [1]]) / np.sqrt(2)\n",
    "øBra = øKet.T.conj()\n",
    "\n",
    "øRho = øKet.dot(øBra)\n",
    "print('density matrix of |ø>\\n\\n', øRho)"
   ]
  },
  {
   "cell_type": "code",
   "execution_count": 5,
   "metadata": {},
   "outputs": [
    {
     "name": "stdout",
     "output_type": "stream",
     "text": [
      "Maximum visibility is a pure state:\n",
      "[[0.5 0.  0.  0.5]\n",
      " [0.  0.  0.  0. ]\n",
      " [0.  0.  0.  0. ]\n",
      " [0.5 0.  0.  0.5]]\n",
      "The state is still entangled with visibility 0.8:\n",
      "[[0.375 0.    0.    0.25 ]\n",
      " [0.    0.125 0.    0.   ]\n",
      " [0.    0.    0.125 0.   ]\n",
      " [0.25  0.    0.    0.375]]\n",
      "No coherence left:\n",
      "[[0.25 0.   0.   0.  ]\n",
      " [0.   0.25 0.   0.  ]\n",
      " [0.   0.   0.25 0.  ]\n",
      " [0.   0.   0.   0.25]]\n"
     ]
    }
   ],
   "source": [
    "print(\"Maximum visibility is a pure state:\")\n",
    "print(mixed_state(øRho, 1.0))\n",
    "\n",
    "print(\"The state is still entangled with visibility 0.8:\")\n",
    "print(mixed_state(øRho, 0.5))\n",
    "\n",
    "print(\"No coherence left:\")\n",
    "print(mixed_state(øRho, 0))"
   ]
  },
  {
   "cell_type": "code",
   "execution_count": 6,
   "metadata": {},
   "outputs": [
    {
     "data": {
      "text/plain": [
       "<matplotlib.legend.Legend at 0x22fe84160c8>"
      ]
     },
     "execution_count": 6,
     "metadata": {},
     "output_type": "execute_result"
    }
   ],
   "source": [
    "\n",
    "import matplotlib.pyplot as plt\n",
    "\n",
    "temperatures = [.5, 5, 2000]\n",
    "energies = np.linspace(0, 20, 100)\n",
    "\n",
    "fig, ax = plt.subplots()\n",
    "\n",
    "for i, T in enumerate(temperatures):\n",
    "    probabilities = np.exp(-energies/T)\n",
    "    Z = probabilities.sum()\n",
    "    probabilities /= Z\n",
    "    ax.plot(energies, probabilities, linewidth=3, label = \"$T_\" + str(i+1)+\"$\")\n",
    "\n",
    "ax.set_xlim(0, 20); ax.set_ylim(0, 1.2 * probabilities.max())\n",
    "ax.set_xticks([]); ax.set_yticks([])\n",
    "ax.set_xlabel('Energy'); ax.set_ylabel('Probability'); ax.legend()"
   ]
  },
  {
   "cell_type": "code",
   "execution_count": null,
   "metadata": {},
   "outputs": [],
   "source": []
  }
 ],
 "metadata": {
  "kernelspec": {
   "display_name": "Python 3",
   "language": "python",
   "name": "python3"
  },
  "language_info": {
   "codemirror_mode": {
    "name": "ipython",
    "version": 3
   },
   "file_extension": ".py",
   "mimetype": "text/x-python",
   "name": "python",
   "nbconvert_exporter": "python",
   "pygments_lexer": "ipython3",
   "version": "3.7.4"
  }
 },
 "nbformat": 4,
 "nbformat_minor": 2
}
